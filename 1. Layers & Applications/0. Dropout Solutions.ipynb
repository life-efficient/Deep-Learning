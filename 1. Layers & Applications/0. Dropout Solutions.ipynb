{
 "cells": [
  {
   "cell_type": "markdown",
   "metadata": {},
   "source": [
    "# Dropout\n",
    "\n",
    "> \"Dropout, simply described, is the concept that if you can learn how to do a task repeatedly whilst drunk, you should be able to do the task even better when sober.\"\n",
    "\n",
    "## Seriously, what is it?\n",
    "\n",
    "- __Widely spread neural network specific regularization method__\n",
    "- Zeroing-out part of neurons (outputs from the layer) __during training and forward pass__.\n",
    "- Left out connections have to \"catch up\" for the ones dropped and perform task independently.\n",
    "- Different set of neurons are randomly dropped during each pass\n",
    "\n",
    "For single neuron equation would look like this:\n",
    "\n",
    "$$\n",
    "O_i = X_ig(\\sum_{k=1}^{d_i}w_k x_k + b), P(X_i = 0) = p\n",
    "$$\n",
    "\n",
    "In simple terms, `p` specifies probability of zeroing out this specific neuron (and `q=1-p` is a probability of keeping it).\n",
    "\n",
    "## Train vs test behaviour\n",
    "\n",
    "Of course, this approach would be wasteful during test as:\n",
    "- It might produce unreproducible behaviour for single sample\n",
    "- It would not utilize the whole network\n",
    "\n",
    "Because of that, the above equation only applies during training phase.\n",
    "\n",
    "> __For test (evaluation) we use all of the neurons BUT SCALED BY THE PROBABILITY OF THE NEURON BEING KEPT.__\n",
    "\n",
    "For single neuron testing equation would look like this:\n",
    "\n",
    "$$\n",
    "O_i = qg(\\sum_{k=1}^{d_i}w_k x_k + b), q = 1-p\n",
    "$$\n",
    "\n",
    "## Exercise\n",
    "\n",
    "Implement `Dropout` layer on your own.\n",
    "- Inside `__init__`:\n",
    "    - single argument `p` the probability of neuron being dropped\n",
    "    - check whether `p` lies within `(0, 1)` range and if it doesn't raise `ValueError` with appropriate message (e.g. `p (probability) has to lie in (0, 1) range!`)\n",
    "    - Create `self._distribution = torch.distributions.binomial.Binomial` object with specified `p` probability\n",
    "- Inside `forward`:\n",
    "    - Use `self.training` `bool` value in `forward` to differentiate between test and train behaviour\n",
    "    - Use `self._distribution.sample` method to get binary mask with the same shape as `inputs` tensor (training)\n",
    "    - Use `.to(inputs.device)` to cast created tensor to `cuda` (or other device) if needed (training). __Note:__ `torch.distributions` __is not casted to device with the module__ as it's not `torch.nn.Module` instance (see [this issue]() for more on the topic)\n",
    "    - Multiply with the binary mask and return it (training)\n",
    "    - Multiply by keep constant (testing phase)"
   ]
  },
  {
   "cell_type": "code",
   "execution_count": 8,
   "metadata": {},
   "outputs": [
    {
     "data": {
      "text/plain": [
       "torch.int64"
      ]
     },
     "execution_count": 8,
     "metadata": {},
     "output_type": "execute_result"
    }
   ],
   "source": [
    "import torch\n",
    "\n",
    "\n",
    "class Dropout(torch.nn.Module):\n",
    "    def __init__(self, p: float):\n",
    "        if not 0 < p < 1:\n",
    "            raise ValueError(f\"p should lie between (0, 1), got: {p}\")\n",
    "            \n",
    "        super().__init__()\n",
    "        self.p = p # float\n",
    "        self._distribution = torch.distributions.binomial.Binomial(probs=self.p) # NOT A PARAMETER\n",
    "        \n",
    "    def forward(self, inputs):\n",
    "        # (batch, in_features)\n",
    "        if self.training:\n",
    "            # (batch, in_features)\n",
    "            mask = self._distribution.sample(inputs.size()).to(inputs.device)\n",
    "            return inputs * mask\n",
    "        return (1 - self.p) * inputs\n",
    "    \n",
    "module = Dropout(0.5)\n"
   ]
  },
  {
   "cell_type": "markdown",
   "metadata": {},
   "source": [
    "### Test\n",
    "\n",
    "Run the code below to see for eventual errors. \n",
    "\n",
    "You should see some values zeroed out during training and no zeroes during testing"
   ]
  },
  {
   "cell_type": "code",
   "execution_count": 2,
   "metadata": {},
   "outputs": [
    {
     "name": "stdout",
     "output_type": "stream",
     "text": [
      "\n",
      "\n",
      "------------------- TRAINING -------------------\n",
      "\n",
      "\n",
      "tensor([[-0.0000, -0.7166, -0.0000, -1.8316, -0.0000],\n",
      "        [-0.0000,  0.9460, -0.7197,  0.7440,  0.0000],\n",
      "        [ 0.0000, -0.3741, -2.2701, -1.1797, -0.0000],\n",
      "        [-0.0000,  0.6468, -1.7475, -0.0000, -0.0000],\n",
      "        [-0.0000, -0.0000,  0.0693,  1.9605, -0.0000],\n",
      "        [-0.1221,  0.3878, -0.0000,  0.0000, -1.0863],\n",
      "        [-0.0000,  0.0000, -0.0000, -1.6344, -0.0000],\n",
      "        [ 1.1280,  0.0000,  0.3795,  0.0000,  0.5406]], device='cuda:0')\n",
      "\n",
      "\n",
      "-------------------- TESTING -------------------\n",
      "\n",
      "\n",
      "tensor([[-0.8776, -0.3583, -0.0216, -0.9158, -0.2285],\n",
      "        [-0.5360,  0.4730, -0.3598,  0.3720,  0.2497],\n",
      "        [ 0.0518, -0.1870, -1.1350, -0.5899, -0.2168],\n",
      "        [-0.1372,  0.3234, -0.8738, -0.7646, -0.5086],\n",
      "        [-0.7511, -0.1746,  0.0346,  0.9803, -0.5257],\n",
      "        [-0.0611,  0.1939, -0.0632,  0.1635, -0.5431],\n",
      "        [-0.3338,  0.4279, -0.2291, -0.8172, -0.8041],\n",
      "        [ 0.5640,  0.2071,  0.1897,  0.4786,  0.2703]], device='cuda:0')\n"
     ]
    }
   ],
   "source": [
    "def test_my_dropout(module):\n",
    "    device = torch.device(\"cuda\" if torch.cuda.is_available() else \"cpu\")\n",
    "\n",
    "    cpu_input = torch.randn(8, 5)\n",
    "    gpu_input = torch.randn(8, 5).to(device)\n",
    "\n",
    "\n",
    "    module(cpu_input)\n",
    "    print(\"\\n\\n------------------- TRAINING -------------------\\n\\n\")\n",
    "    print(module(gpu_input))\n",
    "    print(\"\\n\\n-------------------- TESTING -------------------\\n\\n\")\n",
    "\n",
    "    module.eval()\n",
    "    print(module(gpu_input))\n",
    "\n",
    "test_my_dropout(Dropout(p=0.5))"
   ]
  },
  {
   "cell_type": "markdown",
   "metadata": {},
   "source": [
    "## Dropout rationale\n",
    "\n",
    "### Ensemble\n",
    "\n",
    "> Dropout works like an ensemble of models\n",
    "\n",
    "- During each `forward` pass different internal routes are used to propagate information\n",
    "- During `testing` phase all of the routes are considered but scaled appropriately\n",
    "\n",
    "> Why this value for scaling?\n",
    "\n",
    "- On average, each neuron will \"fire\" with `1-p` probability (activation's expected value)\n",
    "- They will have to output higher values in order to compensate for signal loss during training phase\n",
    "- __If we do not scale values might explode somewhere in the deeper layers__ (especially for deep models and `ReLU` activations) when evaluation is runf\n",
    "\n",
    "### Sparsity (most important weights)\n",
    "\n",
    "- Dropout pushes distributions of activations towards zero\n",
    "- Neural network focuses more on the important weights and important output neurons\n",
    "- We get a model that is __easier to reason about__ (not to confuse with easy!)\n",
    "- __Breaks co-adaptation__ (multiple neurons do similar tasks, hence decision boundary is less clear)\n",
    "- Due to above, generalization is likely to improve as the most important features are considered (most important factor according to original authors)\n",
    "\n",
    "### Scaling rationale - Monte Carlo sampling\n",
    "\n",
    "- Save each model created during forward pass (__a lot of models__!) randomly (`k=50` used) during training (preferably after some training passed)\n",
    "- Ask each one to predict on test\n",
    "- Average their results\n",
    "- __Results similar to just multiplying activation by expected value (within one standard deviation)!__\n",
    "\n",
    "### Noise addition\n",
    "\n",
    "- As we randomly generate masks, we create noise during each forward pass\n",
    "- Noise is known to improve generalization as it makes the model more reluctant to follow random/uninformative patterns\n",
    "- __This is called internal representation noise__"
   ]
  },
  {
   "cell_type": "markdown",
   "metadata": {},
   "source": [
    "## Inverted dropout\n",
    "\n",
    "Inverted dropout is similar, but is a practical implementation which libraries like PyTorch or Tensorflow adhere to.\n",
    "\n",
    "### Training\n",
    "\n",
    "Works almost the same, but is additionally scaled by inverse of keep probability `1 / q`:\n",
    "\n",
    "$$\n",
    "O_i = \\frac{1}{1-p}X_ig(\\sum_{k=1}^{d_i}w_k x_k + b), P(X_i = 0) = p\n",
    "$$\n",
    "\n",
    "- This approach allows the network to adjust to larger inputs (it would multiply outputs by `2` for `p=0.5`)\n",
    "- Simulates input from other neurons that will be added during testing phase\n",
    "\n",
    "### Testing\n",
    "\n",
    "> In this approach testing phase __is left untouched (simply forward inputs to the layer)!__\n",
    "\n",
    "__Advantages__:\n",
    "- Define your model once\n",
    "- Faster inference (one might even remove this layer completely)\n",
    "\n",
    "## Exercise\n",
    "\n",
    "Based on the description, implement `InvertedDropout` (inherit from previously created `Dropout` class).\n",
    "\n",
    "Change `forward` method appropriately."
   ]
  },
  {
   "cell_type": "code",
   "execution_count": 5,
   "metadata": {},
   "outputs": [],
   "source": [
    "class InvertedDropout(Dropout):\n",
    "    def forward(self, inputs):\n",
    "        if self.training:\n",
    "            mask = self._distribution.sample(inputs.size()).to(inputs.device)\n",
    "            return (1 / (1 - self.p)) * inputs * mask\n",
    "        return inputs"
   ]
  },
  {
   "cell_type": "code",
   "execution_count": 6,
   "metadata": {},
   "outputs": [
    {
     "name": "stdout",
     "output_type": "stream",
     "text": [
      "\n",
      "\n",
      "------------------- TRAINING -------------------\n",
      "\n",
      "\n",
      "tensor([[-1.1520, -0.0000,  0.0000, -0.8818, -0.0000],\n",
      "        [ 0.0000,  0.0383,  0.0000,  0.0000, -0.0000],\n",
      "        [-1.4515, -0.0000, -0.1408,  0.0000,  0.0000],\n",
      "        [-0.0000, -0.3405, -0.0000, -0.8192,  0.0000],\n",
      "        [ 0.0000, -0.0000, -0.0000, -1.1061, -0.0000],\n",
      "        [-0.0000, -3.0036, -0.0000, -0.8002,  0.0000],\n",
      "        [-0.0000, -1.2126,  0.4333, -0.0000,  0.2125],\n",
      "        [-0.0000, -0.0000, -0.0000, -0.0000, -0.0000]], device='cuda:0')\n",
      "\n",
      "\n",
      "-------------------- TESTING -------------------\n",
      "\n",
      "\n",
      "tensor([[-1.1520, -0.6724,  1.3133, -0.8818, -0.6427],\n",
      "        [ 0.2690,  0.0383,  0.1700,  0.1068, -1.4302],\n",
      "        [-1.4515, -2.1973, -0.1408,  0.5725,  0.8788],\n",
      "        [-0.2042, -0.3405, -0.4493, -0.8192,  1.5596],\n",
      "        [ 0.1847, -0.1502, -0.0321, -1.1061, -0.1467],\n",
      "        [-0.8698, -3.0036, -0.6992, -0.8002,  1.6355],\n",
      "        [-1.7038, -1.2126,  0.4333, -0.3142,  0.2125],\n",
      "        [-1.8729, -1.6412, -0.5230, -0.2739, -0.5508]], device='cuda:0')\n"
     ]
    }
   ],
   "source": [
    "test_my_dropout(InvertedDropout(p=0.5))"
   ]
  },
  {
   "cell_type": "code",
   "execution_count": null,
   "metadata": {},
   "outputs": [],
   "source": [
    "import torch\n",
    "\n",
    "torch.nn.Sequential(torch.nn.Dropout(p=0.2), torch.nn.Linear(100))"
   ]
  },
  {
   "cell_type": "markdown",
   "metadata": {},
   "source": [
    "## Usage tips & tricks\n",
    "\n",
    "> Those are mostly anectodal, always perform validation! It __might be__ worth to check those out\n",
    "\n",
    "- Use layer size of `N/p`. If you think `128` layer size would be good for this problem and you set `p=0.5`, go with `256` neurons instead\n",
    "- __Use `p=0.5` for internal layers__\n",
    "- __Use `p=0.2` if Dropout is applied on input__\n",
    "- __Use with Fully Connected Networks__, that's where this technique is most likely to bring improvements\n",
    "- __It should not be the first technique you go to__ as others are more popular and usually work better in practice\n",
    "- __Increase learning rate when using dropout__, momentum to `0.95-0.99` instead of `0.9`\n",
    "- `L1` regularization should improve sparsity and force the network to keep only the most valuable connections, __might be a good choice__.\n",
    "\n",
    "## When to use?\n",
    "\n",
    "- Fully Connected Networks (without batch normalization)\n",
    "- Between linear layers\n",
    "- Possibly on input data (as long as it's not an image or text)\n",
    "\n",
    "## When not to use?\n",
    "\n",
    "> Possible solutions are outlined in the challenges for you to read!\n",
    "\n",
    "- When using one of the most popular building blocks for neural networks: **Batch Normalization** (more about that during batch normalization explanation)\n",
    "- At least not in the same \"block\", as dropout changes mean and std of activations\n",
    "- Most neural network architectures use Batch Normalization hence Dropout is not as popular anymore (sometimes for input, sometimes for linear layers at the very end of network)\n",
    "- Convolutional neural networks (as weights are highly correlated and the effect is miniscule if any)\n",
    "- Also prediction surface is more smooth and we are \"un-smoothing\" it using standard Dropout\n",
    "- Recurrent Neural networks"
   ]
  },
  {
   "cell_type": "markdown",
   "metadata": {},
   "source": [
    "## Summary\n",
    "\n",
    "- Dropout is well-known & battle tested regularization technique\n",
    "- Randomly switching of neurons after activation layer during training\n",
    "- Leaving all the connections during test phase but scaled\n",
    "- Works like an ensemble\n",
    "- __In practice Inverted Dropout is used__ (test phase is fully untouched)\n",
    "- Should be used with FCNs, rarely other types of layers (or you need a sound rationale for that)\n",
    "- PyTorch provides `torch.distributions` module for random data generation\n",
    "\n",
    "## Challenges\n",
    "\n",
    "- What is `AlphaDropout`?\n",
    "- What is `SpatialDropout`?\n",
    "- What is `DropConnect`? \n",
    "- What is `ShakeShake` regularization (you can do this one after convolutional neural networks also)"
   ]
  }
 ],
 "metadata": {
  "kernelspec": {
   "display_name": "Python 3",
   "language": "python",
   "name": "python3"
  },
  "language_info": {
   "codemirror_mode": {
    "name": "ipython",
    "version": 3
   },
   "file_extension": ".py",
   "mimetype": "text/x-python",
   "name": "python",
   "nbconvert_exporter": "python",
   "pygments_lexer": "ipython3",
   "version": "3.9.2"
  }
 },
 "nbformat": 4,
 "nbformat_minor": 2
}
